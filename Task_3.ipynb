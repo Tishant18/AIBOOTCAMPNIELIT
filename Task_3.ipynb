{
  "nbformat": 4,
  "nbformat_minor": 0,
  "metadata": {
    "colab": {
      "provenance": []
    },
    "kernelspec": {
      "name": "python3",
      "display_name": "Python 3"
    },
    "language_info": {
      "name": "python"
    }
  },
  "cells": [
    {
      "cell_type": "code",
      "execution_count": 1,
      "metadata": {
        "colab": {
          "base_uri": "https://localhost:8080/"
        },
        "id": "Ev3Nfx6eePj-",
        "outputId": "84b7622a-f72e-4a82-f3e5-11c1bf932146"
      },
      "outputs": [
        {
          "output_type": "stream",
          "name": "stdout",
          "text": [
            "enter first number12\n",
            "enter second number10\n",
            "Result= 120\n"
          ]
        }
      ],
      "source": [
        "a= int(input(\"enter first number\"))\n",
        "b= int(input(\"enter second number\"))\n",
        "c= a*b\n",
        "print(\"Result=\",c)"
      ]
    }
  ]
}