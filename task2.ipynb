{
  "nbformat": 4,
  "nbformat_minor": 0,
  "metadata": {
    "colab": {
      "provenance": []
    },
    "kernelspec": {
      "name": "python3",
      "display_name": "Python 3"
    },
    "language_info": {
      "name": "python"
    }
  },
  "cells": [
    {
      "cell_type": "code",
      "execution_count": 1,
      "metadata": {
        "colab": {
          "base_uri": "https://localhost:8080/"
        },
        "id": "DOjvbhL3WCO5",
        "outputId": "0fd8f95a-4007-4b81-c9b8-7064359f554c"
      },
      "outputs": [
        {
          "output_type": "stream",
          "name": "stdout",
          "text": [
            "value of sum = 50\n"
          ]
        }
      ],
      "source": [
        "a= 19\n",
        "b= 31\n",
        "c= a+b\n",
        "print(\"value of sum =\",c)"
      ]
    }
  ]
}